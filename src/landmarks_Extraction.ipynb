{
 "cells": [
  {
   "cell_type": "code",
   "execution_count": null,
   "id": "d8c749a9",
   "metadata": {},
   "outputs": [],
   "source": [
    "import cv2\n",
    "import mediapipe as mp\n",
    "import numpy as np\n",
    "import json\n",
    "import os\n",
    "from tqdm import tqdm\n",
    "\n",
    "# --- Paths (make sure these are correct) ---\n",
    "VIDEO_SOURCE_DIR = r\"D:\\WLASL DataSet\\WLASL FULL\\videos\"\n",
    "SPLIT_FILE_PATH = r\"D:\\WLASL DataSet\\WLASL FULL\\nslt_300.json\"\n",
    "OUTPUT_NPZ_PATH = r'D:\\New Projects\\Landmarks_553() for 300 Classes\\Full_Landmarks_300_553_3D.npz'\n",
    "\n",
    "# --- Parameters ---\n",
    "SAVE_CHECKPOINT_EVERY_N_VIDEOS = 250\n",
    "TOTAL_LANDMARKS = 553 # Correct total\n",
    "\n",
    "# --- Landmark extraction function (now accepts the model as an argument) ---\n",
    "def extract_landmarks(video_path, holistic_model):\n",
    "    \"\"\"Extracts 553 landmarks from a video file using a pre-initialized model.\"\"\"\n",
    "    video_landmarks = []\n",
    "    cap = cv2.VideoCapture(video_path)\n",
    "    \n",
    "    if not cap.isOpened():\n",
    "        print(f\"Error: Could not open video {video_path}\")\n",
    "        return None\n",
    "        \n",
    "    try:\n",
    "        while cap.isOpened():\n",
    "            ret, frame = cap.read()\n",
    "            if not ret: break\n",
    "            \n",
    "            image = cv2.cvtColor(frame, cv2.COLOR_BGR2RGB)\n",
    "            image.flags.writeable = False # Performance optimization\n",
    "            results = holistic_model.process(image)\n",
    "            image.flags.writeable = True\n",
    "\n",
    "            frame_data = np.zeros((TOTAL_LANDMARKS, 3), dtype=np.float32)\n",
    "\n",
    "            def extract_and_fill(landmark_list, start_idx, num_landmarks):\n",
    "                if landmark_list:\n",
    "                    for i, landmark in enumerate(landmark_list.landmark):\n",
    "                        if i < num_landmarks:\n",
    "                            frame_data[start_idx + i] = [landmark.x, landmark.y, landmark.z]\n",
    "\n",
    "            start_idx = 0\n",
    "            extract_and_fill(results.pose_landmarks, start_idx, 33)\n",
    "            start_idx += 33\n",
    "            # --- FIX IS HERE ---\n",
    "            extract_and_fill(results.face_landmarks, start_idx, 478) # Corrected from 468 to 478\n",
    "            start_idx += 478\n",
    "            # --- END OF FIX ---\n",
    "            extract_and_fill(results.left_hand_landmarks, start_idx, 21)\n",
    "            start_idx += 21\n",
    "            extract_and_fill(results.right_hand_landmarks, start_idx, 21)\n",
    "            \n",
    "            video_landmarks.append(frame_data)\n",
    "            \n",
    "    finally:\n",
    "        cap.release()\n",
    "        \n",
    "    if not video_landmarks: return None\n",
    "    return np.array(video_landmarks, dtype=np.float32)\n",
    "# --- Main processing logic ---\n",
    "def main():\n",
    "    # Load the list of video IDs to process\n",
    "    with open(SPLIT_FILE_PATH, 'r') as f:\n",
    "        # --- FIX IS HERE: Pass the file object 'f' to json.load() ---\n",
    "        data = json.load(f)\n",
    "        video_ids = list(data.keys())\n",
    "    \n",
    "    video_paths_to_process = [(vid, os.path.join(VIDEO_SOURCE_DIR, f'{vid}.mp4')) for vid in video_ids]\n",
    "    \n",
    "    existing_landmarks = {}\n",
    "    \n",
    "    # --- OPTIMIZATION: Initialize model ONCE ---\n",
    "    mp_holistic = mp.solutions.holistic\n",
    "    holistic = mp_holistic.Holistic(static_image_mode=False, model_complexity=1, min_detection_confidence=0.5, min_tracking_confidence=0.5)\n",
    "\n",
    "    try:\n",
    "        for i, (video_id, video_path) in enumerate(tqdm(video_paths_to_process, desc=\"Extracting Landmarks\")):\n",
    "            if not os.path.exists(video_path):\n",
    "                continue\n",
    "\n",
    "            landmarks = extract_landmarks(video_path, holistic)\n",
    "            if landmarks is not None:\n",
    "                existing_landmarks[video_id] = landmarks\n",
    "\n",
    "            # Save periodically\n",
    "            if (i > 0) and (i + 1) % SAVE_CHECKPOINT_EVERY_N_VIDEOS == 0:\n",
    "                print(f\"\\n💾 Saving checkpoint at {len(existing_landmarks)} videos...\")\n",
    "                np.savez_compressed(OUTPUT_NPZ_PATH, **existing_landmarks)\n",
    "    finally:\n",
    "        # --- Make sure to close the model ---\n",
    "        holistic.close() \n",
    "\n",
    "    # --- Final save ---\n",
    "    print(f\"\\n✅ All done! Extracted landmarks for {len(existing_landmarks)} videos.\")\n",
    "    np.savez_compressed(OUTPUT_NPZ_PATH, **existing_landmarks)\n",
    "    print(f\"🎉 Landmarks saved at: {OUTPUT_NPZ_PATH}\")\n"
   ]
  },
  {
   "cell_type": "code",
   "execution_count": 2,
   "id": "c0067f44",
   "metadata": {},
   "outputs": [
    {
     "name": "stderr",
     "output_type": "stream",
     "text": [
      "Extracting Landmarks:   5%|▍         | 249/5118 [24:45<4:19:49,  3.20s/it] "
     ]
    },
    {
     "name": "stdout",
     "output_type": "stream",
     "text": [
      "\n",
      "💾 Saving checkpoint at 250 videos...\n"
     ]
    },
    {
     "name": "stderr",
     "output_type": "stream",
     "text": [
      "Extracting Landmarks:  10%|▉         | 499/5118 [39:52<3:58:44,  3.10s/it]"
     ]
    },
    {
     "name": "stdout",
     "output_type": "stream",
     "text": [
      "\n",
      "💾 Saving checkpoint at 500 videos...\n"
     ]
    },
    {
     "name": "stderr",
     "output_type": "stream",
     "text": [
      "Extracting Landmarks:  15%|█▍        | 749/5118 [53:48<4:07:44,  3.40s/it]"
     ]
    },
    {
     "name": "stdout",
     "output_type": "stream",
     "text": [
      "\n",
      "💾 Saving checkpoint at 750 videos...\n"
     ]
    },
    {
     "name": "stderr",
     "output_type": "stream",
     "text": [
      "Extracting Landmarks:  20%|█▉        | 999/5118 [1:07:46<3:53:43,  3.40s/it]"
     ]
    },
    {
     "name": "stdout",
     "output_type": "stream",
     "text": [
      "\n",
      "💾 Saving checkpoint at 1000 videos...\n"
     ]
    },
    {
     "name": "stderr",
     "output_type": "stream",
     "text": [
      "Extracting Landmarks:  24%|██▍       | 1249/5118 [1:29:25<9:49:48,  9.15s/it] "
     ]
    },
    {
     "name": "stdout",
     "output_type": "stream",
     "text": [
      "\n",
      "💾 Saving checkpoint at 1250 videos...\n"
     ]
    },
    {
     "name": "stderr",
     "output_type": "stream",
     "text": [
      "Extracting Landmarks:  29%|██▉       | 1499/5118 [1:50:23<2:57:05,  2.94s/it] "
     ]
    },
    {
     "name": "stdout",
     "output_type": "stream",
     "text": [
      "\n",
      "💾 Saving checkpoint at 1500 videos...\n"
     ]
    },
    {
     "name": "stderr",
     "output_type": "stream",
     "text": [
      "Extracting Landmarks:  34%|███▍      | 1749/5118 [2:04:40<3:14:49,  3.47s/it] "
     ]
    },
    {
     "name": "stdout",
     "output_type": "stream",
     "text": [
      "\n",
      "💾 Saving checkpoint at 1750 videos...\n"
     ]
    },
    {
     "name": "stderr",
     "output_type": "stream",
     "text": [
      "Extracting Landmarks:  39%|███▉      | 1999/5118 [2:18:36<3:20:01,  3.85s/it] "
     ]
    },
    {
     "name": "stdout",
     "output_type": "stream",
     "text": [
      "\n",
      "💾 Saving checkpoint at 2000 videos...\n"
     ]
    },
    {
     "name": "stderr",
     "output_type": "stream",
     "text": [
      "Extracting Landmarks:  44%|████▍     | 2249/5118 [2:33:16<2:08:45,  2.69s/it] "
     ]
    },
    {
     "name": "stdout",
     "output_type": "stream",
     "text": [
      "\n",
      "💾 Saving checkpoint at 2250 videos...\n"
     ]
    },
    {
     "name": "stderr",
     "output_type": "stream",
     "text": [
      "Extracting Landmarks:  49%|████▉     | 2499/5118 [2:48:53<2:31:30,  3.47s/it] "
     ]
    },
    {
     "name": "stdout",
     "output_type": "stream",
     "text": [
      "\n",
      "💾 Saving checkpoint at 2500 videos...\n"
     ]
    },
    {
     "name": "stderr",
     "output_type": "stream",
     "text": [
      "Extracting Landmarks:  54%|█████▎    | 2749/5118 [3:05:48<2:26:55,  3.72s/it] "
     ]
    },
    {
     "name": "stdout",
     "output_type": "stream",
     "text": [
      "\n",
      "💾 Saving checkpoint at 2750 videos...\n"
     ]
    },
    {
     "name": "stderr",
     "output_type": "stream",
     "text": [
      "Extracting Landmarks:  59%|█████▊    | 2999/5118 [3:22:59<2:16:37,  3.87s/it] "
     ]
    },
    {
     "name": "stdout",
     "output_type": "stream",
     "text": [
      "\n",
      "💾 Saving checkpoint at 3000 videos...\n"
     ]
    },
    {
     "name": "stderr",
     "output_type": "stream",
     "text": [
      "Extracting Landmarks:  63%|██████▎   | 3249/5118 [4:28:01<2:38:48,  5.10s/it]   "
     ]
    },
    {
     "name": "stdout",
     "output_type": "stream",
     "text": [
      "\n",
      "💾 Saving checkpoint at 3250 videos...\n"
     ]
    },
    {
     "name": "stderr",
     "output_type": "stream",
     "text": [
      "Extracting Landmarks:  68%|██████▊   | 3499/5118 [4:50:26<2:43:39,  6.07s/it] "
     ]
    },
    {
     "name": "stdout",
     "output_type": "stream",
     "text": [
      "\n",
      "💾 Saving checkpoint at 3500 videos...\n"
     ]
    },
    {
     "name": "stderr",
     "output_type": "stream",
     "text": [
      "Extracting Landmarks:  73%|███████▎  | 3749/5118 [5:21:05<2:23:05,  6.27s/it] "
     ]
    },
    {
     "name": "stdout",
     "output_type": "stream",
     "text": [
      "\n",
      "💾 Saving checkpoint at 3750 videos...\n"
     ]
    },
    {
     "name": "stderr",
     "output_type": "stream",
     "text": [
      "Extracting Landmarks:  78%|███████▊  | 3999/5118 [5:51:46<1:37:09,  5.21s/it] "
     ]
    },
    {
     "name": "stdout",
     "output_type": "stream",
     "text": [
      "\n",
      "💾 Saving checkpoint at 4000 videos...\n"
     ]
    },
    {
     "name": "stderr",
     "output_type": "stream",
     "text": [
      "Extracting Landmarks:  83%|████████▎ | 4249/5118 [6:23:18<1:39:27,  6.87s/it] "
     ]
    },
    {
     "name": "stdout",
     "output_type": "stream",
     "text": [
      "\n",
      "💾 Saving checkpoint at 4250 videos...\n"
     ]
    },
    {
     "name": "stderr",
     "output_type": "stream",
     "text": [
      "Extracting Landmarks:  88%|████████▊ | 4499/5118 [6:55:23<1:24:48,  8.22s/it] "
     ]
    },
    {
     "name": "stdout",
     "output_type": "stream",
     "text": [
      "\n",
      "💾 Saving checkpoint at 4500 videos...\n"
     ]
    },
    {
     "name": "stderr",
     "output_type": "stream",
     "text": [
      "Extracting Landmarks:  93%|█████████▎| 4749/5118 [7:16:08<21:31,  3.50s/it]  "
     ]
    },
    {
     "name": "stdout",
     "output_type": "stream",
     "text": [
      "\n",
      "💾 Saving checkpoint at 4750 videos...\n"
     ]
    },
    {
     "name": "stderr",
     "output_type": "stream",
     "text": [
      "Extracting Landmarks:  98%|█████████▊| 4999/5118 [7:33:11<06:39,  3.35s/it]  "
     ]
    },
    {
     "name": "stdout",
     "output_type": "stream",
     "text": [
      "\n",
      "💾 Saving checkpoint at 5000 videos...\n"
     ]
    },
    {
     "name": "stderr",
     "output_type": "stream",
     "text": [
      "Extracting Landmarks: 100%|██████████| 5118/5118 [7:41:41<00:00,  5.41s/it]  \n"
     ]
    },
    {
     "name": "stdout",
     "output_type": "stream",
     "text": [
      "\n",
      "✅ All done! Extracted landmarks for 5118 videos.\n",
      "🎉 Landmarks saved at: D:\\New Projects\\Landmarks_553() for 300 Classes\\Full_Landmarks_300_553_3D.npz\n"
     ]
    }
   ],
   "source": [
    "\n",
    "# Add this to run your main function\n",
    "if __name__ == '__main__':\n",
    "    main()\n"
   ]
  },
  {
   "cell_type": "code",
   "execution_count": null,
   "id": "a144805d",
   "metadata": {},
   "outputs": [],
   "source": []
  }
 ],
 "metadata": {
  "kernelspec": {
   "display_name": "pytorch",
   "language": "python",
   "name": "python3"
  },
  "language_info": {
   "codemirror_mode": {
    "name": "ipython",
    "version": 3
   },
   "file_extension": ".py",
   "mimetype": "text/x-python",
   "name": "python",
   "nbconvert_exporter": "python",
   "pygments_lexer": "ipython3",
   "version": "3.9.23"
  }
 },
 "nbformat": 4,
 "nbformat_minor": 5
}
